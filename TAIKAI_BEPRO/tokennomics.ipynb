{
 "cells": [
  {
   "cell_type": "markdown",
   "metadata": {},
   "source": [
    "# TAIKAI/BEPRO Information Sheet\n"
   ]
  },
  {
   "cell_type": "markdown",
   "metadata": {},
   "source": [
    "## Index\n",
    "\n",
    "* 1. [BEPRO Tokenomics & Distribution Schedule](#bepro-tokenomics-&-distribution-schedule)\n",
    "* 2. [Token Utility](#token-utility)\n",
    "* 3. [Ecosystem Development](#ecosystem-development)\n",
    "* 4. [Protocol Workflow](#protocol-workflow)\n"
   ]
  },
  {
   "cell_type": "markdown",
   "metadata": {},
   "source": [
    "## [1. BEPRO Tokenomics & Distribution Schedule](https://support.bepro.network/en/articles/5585549-bepro-tokenomics-distribution-schedule)\n",
    "<a id='bepro-tokenomics-&-distribution-schedule'></a>"
   ]
  },
  {
   "cell_type": "markdown",
   "metadata": {},
   "source": [
    "### Long Term Network Fund"
   ]
  },
  {
   "cell_type": "markdown",
   "metadata": {},
   "source": [
    "* Max Supply: 10,000,000,000 \n",
    "* Circulating Supply: 6.76B BEPRO (15/07/2022)\n",
    "* Scheduled Release: 2.575B $BEPRO (25% of the supply) started unlocking Dec 2021."
   ]
  },
  {
   "cell_type": "markdown",
   "metadata": {},
   "source": [
    "### Token Usage"
   ]
  },
  {
   "cell_type": "markdown",
   "metadata": {},
   "source": [
    "* 1. Protocol Rewards  (1B $BEPRO)\n",
    "        * 500M $BEPRO for v1 and 500M $BEPRO for v2 => 10% of the supply will end up in the hands of future community curators/council of the network \n",
    "* 2. Bounty Placement (1B $BEPRO)\n",
    "        * 700M $BEPRO => 7% of the supply will end up in the hands of community developers of the network\n",
    "        * 300M $BEPRO => 3% of the supply will end up in the hands of relevent partners & grantees\n",
    "* 3. Internal Reserve for TAIKAI Labs (500M $BEPRO)\n",
    "        * TAIKAI SA Allocation, Payments, Internal Reserve\n",
    "* 4. Others\n",
    "        * Ecosystem: Marketing, Ecosystem, Rewards (used in payments to third parties, grants, gamification rewards, community rewards, liquidity rewards, and more)\n",
    "        * Developer Bootstrap Fund: Either in $BEPRO or liquidated to be used in internal development costs, grants, development payments, bounties, and more."
   ]
  },
  {
   "cell_type": "markdown",
   "metadata": {},
   "source": [
    "<center>\n",
    "<img src=\"./images/distribution schedule.png\" alt=\"Starting from July 2021\" alt=\"Casual Loop Diagram Exemple\" width=80% height=80%/>\n",
    "\n",
    "Starting from July 2021"
   ]
  },
  {
   "cell_type": "markdown",
   "metadata": {},
   "source": [
    "## [2. Token Utility](https://support.bepro.network/en/articles/5585584-token-utility)\n",
    "<a id='token-utility'></a>"
   ]
  },
  {
   "cell_type": "markdown",
   "metadata": {},
   "source": [
    "* $BEPRO works as a decentralized development Governance utility token inside the bepro network codebase and protocol.\n",
    "* $BEPRO is used as a curation mechanism and a settlement & dispute system in the network."
   ]
  },
  {
   "cell_type": "markdown",
   "metadata": {},
   "source": [
    "### V1 Usage"
   ]
  },
  {
   "cell_type": "markdown",
   "metadata": {},
   "source": [
    "* **Make Payments**: pay for features/updates on the BEPRO-js Framework and other external frameworks;\n",
    "* **Propose Distributions (Council)** (Only users with +25M $BEPRO): create bounty distributions within the Network and take a 3% fee for all the distributions accepted by the curators, the rest of 97% will be distributed for the developers proposed\n",
    "* **Curate the Distributions (Curator)**: dispute bounty distributions between developers"
   ]
  },
  {
   "cell_type": "markdown",
   "metadata": {},
   "source": [
    "### V2 Usage"
   ]
  },
  {
   "cell_type": "markdown",
   "metadata": {},
   "source": [
    "* **Make Payments**: will remain as it is\n",
    "* **Curators**\n",
    "    * **Propose Distributions (Council)**: will remain as it is\n",
    "    * **Curate the Distributions (Curator)**: will remain as it is\n",
    "    * **Collate your $BEPRO (Collator)** -  Collate/Borrow your $BEPRO against bounties to get visibility in the network (similar to voting about the feature you believe is most relevant) and receive a % of the bounty based on relative collation of the same bounty, once the bounty is finalized your $BEPRO becomes available again for a new collation\n",
    "* **Protocol Governance**:  The second version of the protocol will have on-chain governance for\n",
    "    * Change the percentage (%) of the \"Council\" fee\n",
    "    * Change the minimum amount of \"Council\" $BEPRO necessary to make distributions (initial set at $25M)\n",
    "    * Change the percentage (%) of the \"Collation\" fee\n",
    "    * Change the minimum amount of \"Collation\" $BEPRO necessary to make collations (initial set at 10k $BEPRO)"
   ]
  },
  {
   "cell_type": "markdown",
   "metadata": {},
   "source": [
    "## [3. Ecosystem Development](https://support.bepro.network/en/articles/5585555-ecosystem-development)\n",
    "<a id='ecosystem-development'></a>"
   ]
  },
  {
   "cell_type": "markdown",
   "metadata": {},
   "source": [
    "### Goals\n"
   ]
  },
  {
   "cell_type": "markdown",
   "metadata": {},
   "source": [
    "* Integration of Bepro-js SDK into more apps\n",
    "* Usage of the Protocol by developers and operators\n",
    "* The general reach of the Protocol to more entities and possible protocol developers & curators"
   ]
  },
  {
   "cell_type": "markdown",
   "metadata": {},
   "source": [
    "### Incentive Systems"
   ]
  },
  {
   "cell_type": "markdown",
   "metadata": {},
   "source": [
    "* Grants - Creating awareness and no risk for operators to test and use our technology and protocol (EUR, USDC & BEPRO);\n",
    "* Protocol Rewards - Creating a system where users and curators of the protocol receive rewards by participating in the protocol (USDC & BEPRO);\n",
    "* Other actions that we believe can lead to more adoption and quality awareness."
   ]
  },
  {
   "cell_type": "markdown",
   "metadata": {},
   "source": [
    "## [4. Protocol Workflow](https://docs.bepro.network/getting-started/protocol-workflow)\n",
    "<a id='ecosystem-development'></a>"
   ]
  },
  {
   "cell_type": "markdown",
   "metadata": {},
   "source": [
    "<center>\n",
    "<img src=\"./images/bounty-flow_more_blue.png\" alt=\"Starting from July 2021\" alt=\"Casual Loop Diagram Exemple\" width=100% height=100%/>\n",
    "\n",
    "Bounty Workflow Diagram\n"
   ]
  },
  {
   "cell_type": "markdown",
   "metadata": {},
   "source": [
    "* All the \"Period\" Frameworks are taken within X days (these values are changable via Governance) decisions over $BEPRO holders in the protocol for v2 - by default on \n",
    "    * Redeem Period : 1 day\n",
    "    * Dispute Period : 3 days"
   ]
  },
  {
   "cell_type": "markdown",
   "metadata": {},
   "source": [
    "* Some Actions are taken manually by certain actors over the Protocol\n",
    "    * Operator (Owner of the Bounty)\n",
    "        * \"Bounty Created\"\n",
    "        * \"Bounty Canceled\"\n",
    "        * \"Bounty Flagged as Finalized\"\n",
    "    * Curator (Holder)\n",
    "        * \"Peer Review\" - Code Peer Review\n",
    "        * \"Dispute Period\" - Dispute Action Over Proposals\n",
    "        * \"Dispute Mechanism\" - V2 - $BEPRO Bonding\n",
    "    * Council (Holder)\n",
    "        * \"Council Process\" - Creation of Distribution Proposals\n",
    "    * Any Entity - Technical Aspect\n",
    "        * \"Development Process\" - Actual Development of the certain bounty solution\n",
    "        * \"Bounty Distribution\" - Trigger a Smart Contract Bounty Distribution - depends on internal automatic parameters - flags off-chain filtering as closed\n"
   ]
  }
 ],
 "metadata": {
  "kernelspec": {
   "display_name": "Python 3.9.12 ('cacad-edu')",
   "language": "python",
   "name": "python3"
  },
  "language_info": {
   "name": "python",
   "version": "3.9.12"
  },
  "orig_nbformat": 4,
  "vscode": {
   "interpreter": {
    "hash": "e7c76a3f64467766cd389b819c169a919c5f43af29f141dd71fc89880217f012"
   }
  }
 },
 "nbformat": 4,
 "nbformat_minor": 2
}
